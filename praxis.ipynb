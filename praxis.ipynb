{
 "cells": [
  {
   "cell_type": "code",
   "execution_count": 2,
   "metadata": {},
   "outputs": [
    {
     "name": "stdout",
     "output_type": "stream",
     "text": [
      "d1c7a8d5-ac7b-4fc6-ad6a-9ada0834978d\n",
      "{'choices': [{'finish_reason': 'stop', 'index': 0, 'logprobs': None, 'message': {'content': 'Sure, here is a simple Python code to print \"Hello, World!\":\\n\\n```python\\nprint(\"Hello, World!\")\\n``` \\n\\nJust copy and paste this code into a Python editor or IDE and run the program to see the output \"Hello, World!\" printed to the console.', 'function_call': None, 'refusal': None, 'role': 'assistant', 'tool_calls': None}}], 'created': 1738377599, 'id': 'chatcmpl-AvxiJakekLPFu3eCFK1yDHwmTE1Wc', 'model': 'gpt-3.5-turbo-0125', 'object': 'chat.completion', 'service_tier': 'default', 'system_fingerprint': None, 'usage': {'completion_tokens': 58, 'completion_tokens_details': {'accepted_prediction_tokens': 0, 'audio_tokens': 0, 'reasoning_tokens': 0, 'rejected_prediction_tokens': 0}, 'prompt_tokens': 17, 'prompt_tokens_details': {'audio_tokens': 0, 'cached_tokens': 0}, 'total_tokens': 75}}\n"
     ]
    }
   ],
   "source": [
    "import model\n",
    "import settings\n",
    "\n",
    "print(settings.UNI_API_KEY)\n",
    "\n",
    "print(model.ask_uni(\"Give me code for pyhton to print hello world\"))"
   ]
  },
  {
   "cell_type": "code",
   "execution_count": 4,
   "metadata": {},
   "outputs": [
    {
     "name": "stderr",
     "output_type": "stream",
     "text": [
      "/home/simon/Documents/Uni/seminar_prompt_engineering/src/venv/lib/python3.12/site-packages/tqdm/auto.py:21: TqdmWarning: IProgress not found. Please update jupyter and ipywidgets. See https://ipywidgets.readthedocs.io/en/stable/user_install.html\n",
      "  from .autonotebook import tqdm as notebook_tqdm\n"
     ]
    },
    {
     "name": "stdout",
     "output_type": "stream",
     "text": [
      "{'question_id': 0, 'question': 'The symmetric group $S_n$ has $\\n\\\\factorial{n}$ elements, hence it is not true that $S_{10}$ has 10 elements.\\nFind the characteristic of the ring 2Z.', 'options': ['0', '30', '3', '10', '12', '50', '2', '100', '20', '5'], 'answer': 'A', 'answer_index': 0, 'cot_content': \"A: Let's think step by step. A characteristic of a ring is R is $n$ if the statement $ka = 0$ for all $a\\\\in 2Z$ implies that $k$ is a multiple of $n$. Assume that $ka = 0$ for all $a\\\\in 2Z$ for some $k$. In particular $2k = 0$. Hence $k=0$ and $n=0$. The answer is (A).\", 'category': 'math', 'src': 'cot_lib-abstract_algebra'}\n",
      "The symmetric group $S_n$ has $\n",
      "\\factorial{n}$ elements, hence it is not true that $S_{10}$ has 10 elements.\n",
      "Find the characteristic of the ring 2Z.\n",
      "\n",
      "A: 0\n",
      "B: 30\n",
      "C: 3\n",
      "D: 10\n",
      "E: 12\n",
      "F: 50\n",
      "G: 2\n",
      "H: 100\n",
      "I: 20\n",
      "J: 5\n"
     ]
    }
   ],
   "source": [
    "from datasets import load_dataset\n",
    "from string import ascii_uppercase\n",
    "\n",
    "problems = load_dataset(\"TIGER-Lab/MMLU-Pro\")\n",
    "\n",
    "test = problems[\"test\"]\n",
    "split = problems[\"validation\"].train_test_split(test_size=0.1)\n",
    "val = split[\"test\"]\n",
    "train = split[\"train\"]\n",
    "\n",
    "\n",
    "question = train[0]\n",
    "\n",
    "print(question)\n",
    "\n",
    "\n",
    "options = [f\"{letter}: {word}\" for letter, word in zip(ascii_uppercase, question[\"options\"])]\n",
    "\n",
    "print(question[\"question\"] + \"\\n\\n\" + \"\\n\".join(options))"
   ]
  },
  {
   "cell_type": "code",
   "execution_count": 5,
   "metadata": {},
   "outputs": [
    {
     "data": {
      "text/plain": [
       "'A'"
      ]
     },
     "execution_count": 5,
     "metadata": {},
     "output_type": "execute_result"
    }
   ],
   "source": [
    "import re\n",
    "\n",
    "\n",
    "re.search(r'\\((\\w)\\)', \"foo(A)jdklsfj\").group(1)"
   ]
  },
  {
   "cell_type": "code",
   "execution_count": 5,
   "metadata": {},
   "outputs": [
    {
     "name": "stdout",
     "output_type": "stream",
     "text": [
      "{'id': '', 'choices': [{'finish_reason': 'stop', 'index': 0, 'logprobs': None, 'message': {'content': '  I\\'m not sure I understand what you are saying with \"foo\". Could you explain?', 'role': 'assistant'}}], 'created': 1738370811, 'model': 'meta-llama/Llama-2-7b-chat-hf', 'object': 'chat.completion', 'system_fingerprint': '3.0.1-sha-bb9095a', 'usage': {'completion_tokens': 21, 'prompt_tokens': 9, 'total_tokens': 30}}\n",
      "  I'm not sure I understand what you are saying with \"foo\". Could you explain?\n",
      "{'id': '', 'choices': [{'finish_reason': 'length', 'index': 0, 'logprobs': None, 'message': {'content': '  Sure! Here are the paraphrased sentences:\\n\\n### before:\\nThe scientist performed an experiment to determine the impact of temperature on plant growth.\\n### after:\\nAttempting to investigate the relationship between temperature and plant growth, the scientist carefully designed and executed an experiment.', 'role': 'assistant'}}], 'created': 1738370846, 'model': 'meta-llama/Llama-2-7b-chat-hf', 'object': 'chat.completion', 'system_fingerprint': '3.0.1-sha-bb9095a', 'usage': {'completion_tokens': 64, 'prompt_tokens': 313, 'total_tokens': 377}}\n",
      "{'id': '', 'choices': [{'finish_reason': 'length', 'index': 0, 'logprobs': None, 'message': {'content': '  Sure! Here are the summarized sentences:\\n\\nBefore:\\n\\n* Provide a clear, step-by-step solution to the problem, including the most efficient method and the final answer.\\n* Expand on the poem while maintaining its tone and style, refining it to enhance its', 'role': 'assistant'}}], 'created': 1738370908, 'model': 'meta-llama/Llama-2-7b-chat-hf', 'object': 'chat.completion', 'system_fingerprint': '3.0.1-sha-bb9095a', 'usage': {'completion_tokens': 64, 'prompt_tokens': 246, 'total_tokens': 310}}\n"
     ]
    }
   ],
   "source": [
    "from shared import mutate, crossover\n",
    "from model import get_text_from_response, ask_model\n",
    "\n",
    "\n",
    "response = ask_model(\"foo\")\n",
    "\n",
    "print(response)\n",
    "\n",
    "print(get_text_from_response(response))\n",
    "\n",
    "m = mutate(response)\n",
    "\n",
    "print(m)\n",
    "\n",
    "\n",
    "c = crossover(get_text_from_response(m), get_text_from_response(response))\n",
    "\n",
    "print(c)"
   ]
  },
  {
   "cell_type": "code",
   "execution_count": 7,
   "metadata": {},
   "outputs": [
    {
     "name": "stdout",
     "output_type": "stream",
     "text": [
      "{\"choices\":[{\"finish_reason\":\"stop\",\"index\":0,\"logprobs\":null,\"message\":{\"content\":\"The 2020 World Series was played at Globe Life Field in Arlington, Texas. This was part of a bubble format adopted due to the COVID-19 pandemic, marking the first time the World Series was held at a neutral location.\",\"function_call\":null,\"refusal\":null,\"role\":\"assistant\",\"tool_calls\":null}}],\"created\":1738424215,\"id\":\"chatcmpl-Aw9qBXk09xDlvuRPaju85Tu8RUyy2\",\"model\":\"gpt-4-0125-preview\",\"object\":\"chat.completion\",\"service_tier\":\"default\",\"system_fingerprint\":null,\"usage\":{\"completion_tokens\":48,\"completion_tokens_details\":{\"accepted_prediction_tokens\":0,\"audio_tokens\":0,\"reasoning_tokens\":0,\"rejected_prediction_tokens\":0},\"prompt_tokens\":53,\"prompt_tokens_details\":{\"audio_tokens\":0,\"cached_tokens\":0},\"total_tokens\":101}}\n",
      "\n"
     ]
    }
   ],
   "source": [
    "import requests\n",
    "\n",
    "data = {\n",
    "    \"model\" : \"gpt-4-0125-preview\",\n",
    "    \"messages\": [\n",
    "    {\"role\": \"system\", \"content\": \"You are a helpful assistant.\"},\n",
    "    {\"role\": \"user\", \"content\": \"Who won the world series in 2020?\"},\n",
    "    {\"role\": \"assistant\", \"content\": \"The Los Angeles Dodgers won the World Series in 2020.\"},\n",
    "    {\"role\": \"user\", \"content\": \"Where was it played?\"}\n",
    "    ],\n",
    "}\n",
    "url = \"http://172.26.92.115/chat_completion\"\n",
    "req = requests.post(url, headers={'Authorization': 'd1c7a8d5-ac7b-4fc6-ad6a-9ada0834978d'}, json=data)\n",
    "\n",
    "# req = requests.get(\"http://172.26.92.115/v1/models\", headers={'Authorization': 'd1c7a8d5-ac7b-4fc6-ad6a-9ada0834978d'})\n",
    "print(req.text)"
   ]
  },
  {
   "cell_type": "code",
   "execution_count": 9,
   "metadata": {},
   "outputs": [
    {
     "name": "stdout",
     "output_type": "stream",
     "text": [
      "A\n",
      "C\n",
      "A\n"
     ]
    }
   ],
   "source": [
    "from multiple_choice import extract_uppercase_char_in_parentheses, extract_uppercase_char_with_trailing_colon, extract_answer\n",
    "\n",
    "\n",
    "\n",
    "print(extract_uppercase_char_with_trailing_colon(\"fdsafdsa:jlkfdjsaA:fdsafkjdlsahf\"))\n",
    "print(extract_uppercase_char_in_parentheses(\"fj(AklsjaAf(C)\"))\n",
    "\n",
    "print(extract_answer(\"fdsafdsa:jlkfdjsaA:fdsafkjdlsahf\"))"
   ]
  },
  {
   "cell_type": "code",
   "execution_count": 31,
   "metadata": {},
   "outputs": [
    {
     "name": "stdout",
     "output_type": "stream",
     "text": [
      "{'id': '', 'choices': [{'finish_reason': 'stop', 'index': 0, 'logprobs': None, 'message': {'content': '**Hello World Example in Python**\\n=====================================\\n\\nBelow is a simple Python script that prints \"Hello, World!\" to the console.\\n\\n```python\\n# hello_world.py\\n\\ndef main():\\n    \"\"\"\\n    Prints \"Hello, World!\" to the console.\\n    \"\"\"\\n    print(\"Hello, World!\")\\n\\nif __name__ == \"__main__\":\\n    main()\\n```\\n\\nTo run this script:\\n\\n1. Save the above code in a file called `hello_world.py`.\\n2. Open a terminal window or command prompt.\\n3. Navigate to the directory where you saved `hello_world.py`.\\n4. Run the script using Python: `python hello_world.py`\\n\\nWhen you run this script, it will print \"Hello, World!\" to the console.', 'role': 'assistant'}}], 'created': 1738532263, 'model': 'meta-llama/Llama-3.1-8B-Instruct', 'object': 'chat.completion', 'system_fingerprint': '3.0.1-sha-bb9095a', 'usage': {'completion_tokens': 150, 'prompt_tokens': 43, 'total_tokens': 193}}\n"
     ]
    }
   ],
   "source": [
    "from openai import OpenAI\n",
    "\n",
    "import settings\n",
    "\n",
    "client = OpenAI(\n",
    "    base_url=\"https://api-inference.huggingface.co/v1/\", api_key=settings.HF_API_KEY\n",
    ")\n",
    "\n",
    "messages = []\n",
    "\n",
    "messages.append({\"role\": \"user\", \"content\": \"Give me python code to print hello world\"})\n",
    "\n",
    "completion = client.chat.completions.create(\n",
    "    # model=\"TinyLlama/TinyLlama-1.1B-Chat-v1.0\",\n",
    "    model=\"meta-llama/Llama-3.1-8B-Instruct\",\n",
    "    messages=messages,\n",
    "    # extra_headers={\"x-wait-for-model\": \"true\"},\n",
    "    max_tokens=255,\n",
    "    # top_p=top_p,\n",
    "    # temperature=temp,\n",
    ")\n",
    "\n",
    "\n",
    "response = completion.to_dict()\n",
    "print(response)"
   ]
  }
 ],
 "metadata": {
  "kernelspec": {
   "display_name": "venv",
   "language": "python",
   "name": "python3"
  },
  "language_info": {
   "codemirror_mode": {
    "name": "ipython",
    "version": 3
   },
   "file_extension": ".py",
   "mimetype": "text/x-python",
   "name": "python",
   "nbconvert_exporter": "python",
   "pygments_lexer": "ipython3",
   "version": "3.12.3"
  }
 },
 "nbformat": 4,
 "nbformat_minor": 2
}
